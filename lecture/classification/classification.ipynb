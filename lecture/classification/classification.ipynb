{
 "cells": [
  {
   "cell_type": "markdown",
   "metadata": {},
   "source": [
    "## Класифікатори\n",
    "\n",
    "| Алгоритм | Плюси | Мінуси | \n",
    "| --- | --- | --- | \n",
    "| Лінійна регресія | Простота реалізаціЇ | Немає гарантії працездатності. Підтримка лише бінарних міток |\n",
    "| Логістична регресія | Висока точність. Універсальний метод регулювання моделі для самостійного налаштування. Відгуки моделі є мірою ймовірності. Модель можна легко оновити, використовуючи нові дані | Підтримка лише бінарних міток | \n",
    "| Багатозмінна логістична регресія | Підтримує багатокласову класифікацію. Відгуки моделі є мірою ймовірності | Складніше у реалізації | \n",
    "\n"
   ]
  },
  {
   "cell_type": "markdown",
   "metadata": {},
   "source": [
    " "
   ]
  }
 ],
 "metadata": {
  "kernelspec": {
   "display_name": "Python 3",
   "language": "python",
   "name": "python3"
  },
  "language_info": {
   "codemirror_mode": {
    "name": "ipython",
    "version": 3
   },
   "file_extension": ".py",
   "mimetype": "text/x-python",
   "name": "python",
   "nbconvert_exporter": "python",
   "pygments_lexer": "ipython3",
   "version": "3.12.6"
  }
 },
 "nbformat": 4,
 "nbformat_minor": 2
}
